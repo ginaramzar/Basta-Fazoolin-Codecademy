{
 "cells": [
  {
   "cell_type": "code",
   "execution_count": 1,
   "metadata": {},
   "outputs": [],
   "source": [
    "class Business:\n",
    "\n",
    "  def __init__(self, name, franchises):\n",
    "    self.name = name\n",
    "    self.franchises = franchises"
   ]
  },
  {
   "cell_type": "code",
   "execution_count": 2,
   "metadata": {},
   "outputs": [],
   "source": [
    "class Franchise:\n",
    "  \n",
    "  def __init__(self, address, menus):\n",
    "    self.address = address\n",
    "    self.menus = menus"
   ]
  },
  {
   "cell_type": "code",
   "execution_count": 5,
   "metadata": {},
   "outputs": [],
   "source": [
    "def __repr__(self):\n",
    "    return self.address\n",
    "\n",
    "def available_menus(self, time):\n",
    "    available_menus = []\n",
    "    for menu in self.menus:\n",
    "        if time >= menu.start_time and time <= menu.end_time:\n",
    "            available_menus.append(menu)\n",
    "    return available_menus"
   ]
  },
  {
   "cell_type": "code",
   "execution_count": 6,
   "metadata": {},
   "outputs": [],
   "source": [
    "class Menu:\n",
    "  def __init__(self, name, items, start_time, end_time):\n",
    "    self.name = name\n",
    "    self.items = items\n",
    "    self.start_time = start_time\n",
    "    self.end_time = end_time"
   ]
  },
  {
   "cell_type": "code",
   "execution_count": 7,
   "metadata": {},
   "outputs": [],
   "source": [
    "def __repr__(self):\n",
    "    return self.name + \" menu available from \" + str(self.start_time) + \" - \" + str(self.end_time)\n",
    "\n",
    "def calculate_bill(self, purchased_items):\n",
    "    bill = 0\n",
    "    for purchased_item in purchased_items:\n",
    "      if purchased_item in self.items:\n",
    "        bill += self.items[purchased_item]\n",
    "    return bill"
   ]
  },
  {
   "cell_type": "code",
   "execution_count": 8,
   "metadata": {},
   "outputs": [],
   "source": [
    "#Brunch Menu\n",
    "brunch_items = {\n",
    "  'pancakes': 7.50, 'waffles': 9.00, 'burger': 11.00, 'home fries': 4.50, 'coffee': 1.50, 'espresso': 3.00, 'tea': 1.00, 'mimosa': 10.50, 'orange juice': 3.50\n",
    "}\n",
    "brunch_menu = Menu(\"brunch\", brunch_items, 1100, 1600)\n",
    "\n",
    "#Early_bird Menu\n",
    "early_bird_items = {\n",
    "  'salumeria plate': 8.00, 'salad and breadsticks (serves 2, no refills)': 14.00, 'pizza with quattro formaggi': 9.00, 'duck ragu': 17.50, 'mushroom ravioli (vegan)': 13.50, 'coffee': 1.50, 'espresso': 3.00,\n",
    "}\n",
    "early_bird_menu = Menu(\"early_bird\", early_bird_items, 1500, 1800)\n",
    "\n",
    "#Dinner Menu\n",
    "dinner_items = {\n",
    "  'crostini with eggplant caponata': 13.00, 'caesar salad': 16.00, 'pizza with quattro formaggi': 11.00, 'duck ragu': 19.50, 'mushroom ravioli (vegan)': 13.50, 'coffee': 2.00, 'espresso': 3.00,\n",
    "}\n",
    "dinner_menu = Menu(\"dinner\", dinner_items, 1700, 2300)\n",
    "\n",
    "#Kids Menu\n",
    "kids_items = {\n",
    "  'chicken nuggets': 6.50, 'fusilli with wild mushrooms': 12.00, 'apple juice': 3.00\n",
    "}\n",
    "kids_menu = Menu(\"kids\", kids_items, 1100, 2100)\n",
    "\n",
    "#Arepa Menu\n",
    "arepa_items = {\n",
    "  'arepa pabellon': 7.00, 'pernil arepa': 8.50, 'guayanes arepa': 8.00, 'jamon arepa': 7.50\n",
    "}\n",
    "arepas_menu = Menu(\"Take a’ Arepa\", arepa_items, 1000, 2000)"
   ]
  },
  {
   "cell_type": "code",
   "execution_count": 9,
   "metadata": {},
   "outputs": [],
   "source": [
    "menus = [brunch_menu, early_bird_menu, dinner_menu, kids_menu]\n",
    "\n",
    "flagship_store = Franchise(\"1232 West End Road\", menus)\n",
    "new_installment = Franchise(\"12 East Mulberry Street\", menus)\n",
    "arepas_place = Franchise(\"189 Fitzgerald Avenue\", [arepas_menu])\n",
    "\n",
    "basta = Business(\"Basta Fazoolin' with my Heart\", [flagship_store, new_installment])\n",
    "\n",
    "aerpa = Business(\"Take a' Arepa\", [arepas_place])"
   ]
  }
 ],
 "metadata": {
  "kernelspec": {
   "display_name": "Python 3",
   "language": "python",
   "name": "python3"
  },
  "language_info": {
   "codemirror_mode": {
    "name": "ipython",
    "version": 3
   },
   "file_extension": ".py",
   "mimetype": "text/x-python",
   "name": "python",
   "nbconvert_exporter": "python",
   "pygments_lexer": "ipython3",
   "version": "3.10.9"
  },
  "orig_nbformat": 4,
  "vscode": {
   "interpreter": {
    "hash": "7cb397e0bb44496862f20d991924bccdec659f7d217c3631cb734743b8a2a8cc"
   }
  }
 },
 "nbformat": 4,
 "nbformat_minor": 2
}
